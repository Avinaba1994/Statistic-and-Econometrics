{
 "cells": [
  {
   "cell_type": "code",
   "execution_count": 2,
   "metadata": {},
   "outputs": [],
   "source": [
    "import random\n",
    "import math"
   ]
  },
  {
   "cell_type": "code",
   "execution_count": 3,
   "metadata": {},
   "outputs": [],
   "source": [
    "def func(x):\n",
    "    return math.log(x)/x"
   ]
  },
  {
   "cell_type": "code",
   "execution_count": 9,
   "metadata": {},
   "outputs": [
    {
     "name": "stdout",
     "output_type": "stream",
     "text": [
      "2.65339705562788\n"
     ]
    }
   ],
   "source": [
    "count =0\n",
    "in_area = 0.0 \n",
    "\n",
    "while count < 1000000:\n",
    "    x_coord = random.uniform(1,10)  #Defining the domain in x axis , this step is important for numerical integraqtion using Monte CARLO\n",
    "    y_coord = random.uniform(0,1/math.e)  #Defining the domain in y axis\n",
    "\n",
    "    # Now to count if the ranodmly generated number lies under the curve of the function\n",
    "    \n",
    "    if y_coord < func(x_coord):\n",
    "        in_area += 1\n",
    "    count+=1\n",
    "    \n",
    "area_box = 9/math.e\n",
    "\n",
    "print((in_area/count)*area_box)"
   ]
  },
  {
   "cell_type": "code",
   "execution_count": null,
   "metadata": {},
   "outputs": [],
   "source": []
  }
 ],
 "metadata": {
  "kernelspec": {
   "display_name": "Python 3",
   "language": "python",
   "name": "python3"
  },
  "language_info": {
   "codemirror_mode": {
    "name": "ipython",
    "version": 3
   },
   "file_extension": ".py",
   "mimetype": "text/x-python",
   "name": "python",
   "nbconvert_exporter": "python",
   "pygments_lexer": "ipython3",
   "version": "3.7.3"
  }
 },
 "nbformat": 4,
 "nbformat_minor": 2
}
